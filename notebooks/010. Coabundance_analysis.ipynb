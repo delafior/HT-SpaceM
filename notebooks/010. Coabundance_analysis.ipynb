{
 "cells": [
  {
   "cell_type": "markdown",
   "id": "7648634a-0080-4f25-a894-97f2a293239f",
   "metadata": {},
   "source": [
    "# 8. Co-abundance analysis"
   ]
  },
  {
   "cell_type": "markdown",
   "id": "fbca2767-98d3-4ae4-9cd5-db7969ab0c0a",
   "metadata": {},
   "source": [
    "This notebook is used for single-cell co-abundance analysis preparing the data for Figure 5.\n",
    "\n",
    "Before starting, use 1.Preprocessing notebook to generate:\n",
    "- SC2_normalized.h5ad - Normalized single-cell data\n",
    "- SC3_normalized.h5ad - Normalized single-cell data\n",
    "\n",
    "Download data available at Metabolights [www.ebi.ac.uk/metabolights/MTBLS11236], study identifier MTBLS11236 and move to data folder:\n",
    "- SC2_metabolite_IDs.csv - Metabolite metadata\n",
    "- SC3_metabolite_IDs.csv - Metabolite metadata"
   ]
  },
  {
   "cell_type": "code",
   "execution_count": 1,
   "id": "d1ab6fe3-d2e0-459f-8d93-10ce7be243b5",
   "metadata": {},
   "outputs": [],
   "source": [
    "from pathlib import Path\n",
    "\n",
    "import pandas as pd\n",
    "import scanpy as sc\n",
    "from scipy import stats\n",
    "from anndata import read_h5ad\n",
    "\n",
    "import sys\n",
    "sys.path.insert(0, '../functions/')\n",
    "import pl\n",
    "import utils"
   ]
  },
  {
   "cell_type": "markdown",
   "id": "70d0b037-831d-43ed-acd9-70476f2f71b6",
   "metadata": {},
   "source": [
    "### Set paths"
   ]
  },
  {
   "cell_type": "code",
   "execution_count": 2,
   "id": "08648e7d-fd62-4b9d-9bc2-cda5ccee36d2",
   "metadata": {},
   "outputs": [],
   "source": [
    "#input\n",
    "data_dir = Path(r'../data')\n",
    "anndata_path1 = data_dir / 'SC2_normalized.h5ad'\n",
    "metabolites_path1 = data_dir / 'SC2_metabolite_IDs.csv'\n",
    "\n",
    "anndata_path2 = data_dir / 'SC3_normalized.h5ad'\n",
    "metabolites_path2 = data_dir / 'SC3_metabolite_IDs.csv'\n",
    "\n",
    "#output\n",
    "data_path =  Path(r'../data')\n",
    "data_path.mkdir(parents=True, exist_ok=True)\n",
    "sc.settings.figdir = data_path"
   ]
  },
  {
   "cell_type": "markdown",
   "id": "cbea0b7b-ec7f-4523-b1b0-577a4ffea09b",
   "metadata": {},
   "source": [
    "### Load data"
   ]
  },
  {
   "cell_type": "code",
   "execution_count": 3,
   "id": "37aa1dfc-89b3-4640-86ce-830580b93cbb",
   "metadata": {},
   "outputs": [
    {
     "name": "stderr",
     "output_type": "stream",
     "text": [
      "/Users/jeanydelafiori/Apps/miniconda3/envs/spacem_analysis/lib/python3.12/site-packages/anndata/_core/anndata.py:1754: UserWarning: Observation names are not unique. To make them unique, call `.obs_names_make_unique`.\n",
      "  utils.warn_names_duplicates(\"obs\")\n"
     ]
    }
   ],
   "source": [
    "#load anndata file\n",
    "adata1 =  sc.read_h5ad(anndata_path1)\n",
    "adata1.raw = adata1\n",
    "\n",
    "adata2 =  sc.read_h5ad(anndata_path2)\n",
    "adata2.raw = adata2\n",
    "\n",
    "#load metabolites file\n",
    "metabolite_ID1 = pd.read_csv(metabolites_path1)\n",
    "metabolite_ID2 = pd.read_csv(metabolites_path2)"
   ]
  },
  {
   "cell_type": "markdown",
   "id": "0ac5223b-2e97-4c02-94e6-be8c280657a5",
   "metadata": {},
   "source": [
    "## Determine co-detected metabolites"
   ]
  },
  {
   "cell_type": "markdown",
   "id": "8d0c1be5-d466-432b-8c44-e6390b2c7dd4",
   "metadata": {},
   "source": [
    "Aiming to determinine if two metabolites are simultaneously detected in a single-cell for each cell line:\n",
    "- Step 1: we atributted 0 or 1 for the absence or presence of non-zero ion intensity for each ion in a single-cell, respectively.\n",
    "- Step 2: we combined ions two-by-two for every cell line ion intensity matrix\n",
    "- Step 3: for each ion pair, we summarized the attributed values (0 or 1):\n",
    "    - For cells where both ions have zero intensity, value = 0 (dropout)\n",
    "    - For cells with one non-zero ion, value = 1 (mismatch)\n",
    "    - For cells where both ions have non-zero intensity, value = 2 (co-detected)\n",
    "- Step 4: Aiming a low dropout rate, we selected ion-pairs where the proportion of cells having 0 value were less or equal to 5%\n",
    "- Step 5: Considering only these ion pairs, we filtered for ion-pairs where the proportion of cells having value 2 were more or equal to 60%"
   ]
  },
  {
   "cell_type": "markdown",
   "id": "bd2ebdaf-fe2b-4077-ba10-3a773a40ec9b",
   "metadata": {},
   "source": [
    "#### SC2"
   ]
  },
  {
   "cell_type": "code",
   "execution_count": 4,
   "id": "413d6cc8-7efb-46eb-837d-626327a43aa0",
   "metadata": {},
   "outputs": [],
   "source": [
    "#calculate the number of cells having zero or non-zero intensity for an ion pair\n",
    "cell_name= ['A498','BT-549','HOP-62','HS 578T','HT29','HeLa','IGR-OV1','MALME-3M','NCI-H460','OVCAR-5']\n",
    "\n",
    "prop_list1 = []\n",
    "\n",
    "for cell in cell_name: \n",
    "    adata_cell = adata1[adata1.obs.CellLine.eq(cell),:]\n",
    "    prop_df = utils.calculate_cell_dropout(adata=adata_cell, cell=cell)\n",
    "\n",
    "    #filter for ion pair with low droupout for both ions and co-detected in at least 60% of the cells\n",
    "    filter_df = prop_df[(prop_df['proportion'] <= 0.05) & (prop_df['value'] == 0)]\n",
    "    prop_df = prop_df[prop_df['ions'].isin(list(filter_df['ions']))]\n",
    "    prop_df = prop_df[(prop_df['value']==2) & (prop_df['proportion']>=0.6)]\n",
    "\n",
    "    prop_list1.append(prop_df)\n",
    "\n",
    "detection_df1 = pd.concat(prop_list1)"
   ]
  },
  {
   "cell_type": "markdown",
   "id": "6b5b607c-8e60-455c-824b-299fe50cd780",
   "metadata": {},
   "source": [
    "#### SC3"
   ]
  },
  {
   "cell_type": "code",
   "execution_count": 5,
   "id": "12507009-8bbe-4a9c-b718-22979b7fef75",
   "metadata": {},
   "outputs": [],
   "source": [
    "#calculate the number of cells having zero or non-zero intensity for an ion pair\n",
    "condition_name= ['Control', '2-DG 12h', '2-DG 24h']\n",
    "obs = 'condition'\n",
    "\n",
    "prop_list2 = []\n",
    "\n",
    "for condition in condition_name: \n",
    "    adata_cond = adata2[adata2.obs[obs].eq(condition),:]\n",
    "    prop_df = utils.calculate_cell_dropout(adata=adata_cond, cell=condition)\n",
    "\n",
    "    #filter for ion pair with low droupout for both ions and co-detected in at least 60% of the cells\n",
    "    filter_df = prop_df[(prop_df['proportion'] <= 0.05) & (prop_df['value'] == 0)]\n",
    "    prop_df = prop_df[prop_df['ions'].isin(list(filter_df['ions']))]\n",
    "    prop_df = prop_df[(prop_df['value']==2) & (prop_df['proportion']>=0.6)]\n",
    "\n",
    "    prop_list2.append(prop_df)\n",
    "\n",
    "detection_df2 = pd.concat(prop_list2)"
   ]
  },
  {
   "cell_type": "markdown",
   "id": "8019694e-f150-4816-95df-207f5b3214e4",
   "metadata": {},
   "source": [
    "## Coefficient of correlation"
   ]
  },
  {
   "cell_type": "markdown",
   "id": "745c851c-fc12-4313-81ab-85f4d082b393",
   "metadata": {},
   "source": [
    "For every cell line ion intensity matrix we computed Pearson correlation coefficient among ion-pairs. Then, we retained only the ion pairs that passed the co-detection criteria."
   ]
  },
  {
   "cell_type": "markdown",
   "id": "b4d27bf2-1d21-4a37-81a6-15680af07333",
   "metadata": {},
   "source": [
    "#### SC2"
   ]
  },
  {
   "cell_type": "code",
   "execution_count": 5,
   "id": "1c6f9bef-21ac-466a-83e7-3c4789c26de6",
   "metadata": {},
   "outputs": [
    {
     "name": "stderr",
     "output_type": "stream",
     "text": [
      "/Users/jeanydelafiori/Documents/UCSD/HTSpaceM/notebooks/../functions/utils.py:249: ConstantInputWarning: An input array is constant; the correlation coefficient is not defined.\n",
      "  res = stats.pearsonr(int_matrix[col_1], int_matrix[col_2], alternative='two-sided')\n"
     ]
    }
   ],
   "source": [
    "#calculate correlation between ion pairs\n",
    "cell_name = ['A498','BT-549','HOP-62','HS 578T','HT29','HeLa','IGR-OV1','MALME-3M','NCI-H460','OVCAR-5']\n",
    "corr_cell = []\n",
    "\n",
    "for cell in cell_name: \n",
    "    adata_cell = adata1[adata1.obs.CellLine.eq(cell),:]\n",
    "    int_matrix = pd.DataFrame(columns=adata_cell.var_names, data = adata_cell.X, index = adata_cell.obs_names)\n",
    "    corr_cell.extend(utils.ion_correlation_calculation(int_matrix=int_matrix, cell=cell))\n",
    "    \n",
    "corr_df1 = pd.DataFrame.from_dict(corr_cell)"
   ]
  },
  {
   "cell_type": "markdown",
   "id": "5184a16b-f67c-4bd4-af41-01262bf63b37",
   "metadata": {},
   "source": [
    "#### SC3"
   ]
  },
  {
   "cell_type": "code",
   "execution_count": 7,
   "id": "4091355a-35d1-4463-adaf-e3979cba507d",
   "metadata": {},
   "outputs": [],
   "source": [
    "condition_name = ['Control', '2-DG 12h', '2-DG 24h']\n",
    "obs = 'condition'\n",
    "corr_condition = []\n",
    "\n",
    "for condition in condition_name: \n",
    "    # Subset to the current condition\n",
    "    adata_cond = adata2[adata2.obs[obs] == condition, :]\n",
    "\n",
    "    # Loop over wells\n",
    "    for well in adata_cond.obs['well'].unique():\n",
    "        adata_well = adata_cond[adata_cond.obs['well'] == well, :]\n",
    "\n",
    "        # Get expression matrix for that well\n",
    "        int_matrix = pd.DataFrame(columns=adata_well.var_names, data=adata_well.X, index=adata_well.obs_names)\n",
    "\n",
    "        # Calculate correlation within this well\n",
    "        well_corrs = utils.ion_correlation_calculation(int_matrix=int_matrix, cell=condition)\n",
    "        \n",
    "        for c in well_corrs:\n",
    "            c['well'] = well  # Tag with well\n",
    "        corr_condition.extend(well_corrs)\n",
    "\n",
    "# Turn into DataFrame\n",
    "corr_df2 = pd.DataFrame.from_dict(corr_condition)\n",
    "\n",
    "#Calculate mean correlation per condition\n",
    "mean_corr = (corr_df2.groupby(['cell_line', 'ions'])[['corr', 'p-value']].mean().reset_index())\n",
    "mean_corr[['col1', 'col2']] = mean_corr['ions'].str.split(',', expand=True)"
   ]
  },
  {
   "cell_type": "markdown",
   "id": "de18bce5-77fe-4791-939e-383fecded92d",
   "metadata": {},
   "source": [
    "## Determine co-abundant ions"
   ]
  },
  {
   "cell_type": "markdown",
   "id": "4e621c15-d58a-49bf-9bf3-964687df6af6",
   "metadata": {},
   "source": [
    "We considered two ions co-abundant when they passed the co-detection criteria and presented a coefficient of correlation higher or equal to the absolute value 0.3\n",
    "- Ion-pairs positively co-abundant have R higher or equal to +0.3\n",
    "- Ion-pairs inversely co-abundant have R lower or equal to -0.3"
   ]
  },
  {
   "cell_type": "code",
   "execution_count": 6,
   "id": "b0d5f1f9-cc40-446e-9de8-2ca09bd119d3",
   "metadata": {},
   "outputs": [],
   "source": [
    "def set_group(data):\n",
    "    if data['corr'] >= 0.3:\n",
    "        return 'positively co-abundant'\n",
    "    elif data['corr'] <= -0.3:\n",
    "        return 'negatively co-abundant'\n",
    "    else:\n",
    "        return 'co-detected'"
   ]
  },
  {
   "cell_type": "markdown",
   "id": "42a8a525-12f1-4cdd-823c-b7158510739a",
   "metadata": {},
   "source": [
    "#### SC2"
   ]
  },
  {
   "cell_type": "code",
   "execution_count": 7,
   "id": "129c6506-7691-4126-9a2b-331ca3937797",
   "metadata": {},
   "outputs": [],
   "source": [
    "coabundance_df1 = detection_df1.merge(corr_df1, how = 'inner')\n",
    "\n",
    "coabundance_df1['group'] = coabundance_df1.apply(set_group, axis=1)\n",
    "coabundance_df1.to_csv(data_path / 'SC2_co-abundance.csv', index=False)"
   ]
  },
  {
   "cell_type": "markdown",
   "id": "22315626-46fa-4123-be71-76ca3ac047da",
   "metadata": {},
   "source": [
    "#### SC3"
   ]
  },
  {
   "cell_type": "code",
   "execution_count": 10,
   "id": "a82c9801-a6f3-417d-904d-8268576057fd",
   "metadata": {},
   "outputs": [],
   "source": [
    "coabundance_df2 = detection_df2.merge(mean_corr, how = 'inner')\n",
    "\n",
    "coabundance_df2['group'] = coabundance_df2.apply(set_group, axis=1)\n",
    "coabundance_df2.to_csv(data_path/ 'SC3_co-abundance.csv')"
   ]
  },
  {
   "cell_type": "code",
   "execution_count": null,
   "id": "0e3dea00-40e7-407b-a31f-356bfb47675b",
   "metadata": {},
   "outputs": [],
   "source": []
  }
 ],
 "metadata": {
  "kernelspec": {
   "display_name": "Python 3 (ipykernel)",
   "language": "python",
   "name": "python3"
  },
  "language_info": {
   "codemirror_mode": {
    "name": "ipython",
    "version": 3
   },
   "file_extension": ".py",
   "mimetype": "text/x-python",
   "name": "python",
   "nbconvert_exporter": "python",
   "pygments_lexer": "ipython3",
   "version": "3.12.7"
  }
 },
 "nbformat": 4,
 "nbformat_minor": 5
}
