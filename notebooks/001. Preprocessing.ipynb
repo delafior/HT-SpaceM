{
 "cells": [
  {
   "cell_type": "markdown",
   "id": "2a2a32a5-8a7b-4135-a312-ee194d72fa81",
   "metadata": {},
   "source": [
    "# 1. Preprocessing analysis"
   ]
  },
  {
   "cell_type": "markdown",
   "id": "c1eeaaf7-bcc1-4023-bfe8-161b46f04742",
   "metadata": {},
   "source": [
    "This notebook is used to preprocess single-cell data:\n",
    "- SC1: HeLa and NIH3T3 cells experiment\n",
    "- SC2: 10 cell lines from NCI-60 cell panel (A498, BT-549, HOP-62, HS 578T, HT29, HeLa, IGR-OV1, MALME-3M, NCI-H460, and OVCAR-5') and HeLa cells\n",
    "- SC3: HeLa cells treated with 2-Deoxy-glucose (2-DG) at 12 and 24h timepoints\n",
    "- SC4: Co-culture of NIH3T3 and NCI-H460 cell lines"
   ]
  },
  {
   "cell_type": "markdown",
   "id": "55251fff-8e6b-4cb6-94e8-72f719779d45",
   "metadata": {},
   "source": [
    "Before starting, download data available at Metabolights [www.ebi.ac.uk/metabolights/MTBLS11236], study identifier MTBLS11236 and move to data folder.\n",
    "- SC1_raw.h5ad - Single-cell data\n",
    "- SC2_raw.h5ad - Single-cell data\n",
    "- SC3_raw.h5ad - Single-cell data\n",
    "- SC4_raw.h5ad - Single-cell data\n",
    "- SC1_custom_database.tsv - Ions from custom database\n",
    "- SC2_custom_database.tsv - Ions from custom database\n",
    "- SC3_custom_database.tsv - Ions from custom database\n",
    "- SC4_custom_database.tsv - Ions from custom database\n",
    "\n"
   ]
  },
  {
   "cell_type": "code",
   "execution_count": 1,
   "id": "614c0094-2f6d-4352-ac99-d96ebf9c094c",
   "metadata": {},
   "outputs": [],
   "source": [
    "from pathlib import Path\n",
    "import seaborn as sns\n",
    "import matplotlib.pyplot as plt\n",
    "import numpy as np\n",
    "import pandas as pd\n",
    "import scanpy as sc\n",
    "from anndata import read_h5ad, concat\n",
    "import sys\n",
    "sys.path.insert(0, '../functions/')\n",
    "import pl\n",
    "import utils"
   ]
  },
  {
   "cell_type": "markdown",
   "id": "a6a4a678-d781-4e5a-b045-0e57e07c12a5",
   "metadata": {},
   "source": [
    "## Set paths"
   ]
  },
  {
   "cell_type": "code",
   "execution_count": 3,
   "id": "cf34d9ee-6d12-4095-bc38-fb3418d98d86",
   "metadata": {},
   "outputs": [],
   "source": [
    "#input\n",
    "data_dir = Path(r'../data')\n",
    "\n",
    "SC1_path = data_dir / 'SC1_raw.h5ad'\n",
    "SC2_path = data_dir / 'SC2_raw.h5ad'\n",
    "SC3_path = data_dir / 'SC3_raw.h5ad'\n",
    "SC4_path = data_dir / 'SC4_raw.h5ad'\n",
    "\n",
    "custom1_path = data_dir / 'SC1_custom_database.tsv'\n",
    "custom2_path = data_dir / 'SC2_custom_database.tsv'\n",
    "custom3_path = data_dir / 'SC3_custom_database.tsv'\n",
    "custom4_path = data_dir / 'SC4_custom_database.tsv'\n",
    "\n",
    "#output\n",
    "data_path =  Path(r'../data')\n",
    "\n",
    "data_path.mkdir(parents=True, exist_ok=True)\n",
    "sc.settings.figdir = data_path"
   ]
  },
  {
   "cell_type": "markdown",
   "id": "24dc070b-02e6-49f0-844b-7925160927ea",
   "metadata": {},
   "source": [
    "## SC1"
   ]
  },
  {
   "cell_type": "markdown",
   "id": "d33440b2-2e32-4e76-a429-c9ece2320d06",
   "metadata": {},
   "source": [
    "### Load data"
   ]
  },
  {
   "cell_type": "code",
   "execution_count": 4,
   "id": "a586bbcd-0065-4106-b30c-254fc42ee124",
   "metadata": {},
   "outputs": [],
   "source": [
    "#load anndata file\n",
    "adata =  sc.read_h5ad(SC1_path)\n",
    "adata.raw = adata\n",
    "\n",
    "#load custom database\n",
    "database = pd.read_csv(custom1_path, sep='\\t', header=0) \n",
    "database_filt = database['formula']"
   ]
  },
  {
   "cell_type": "markdown",
   "id": "a22a7948-800c-445f-ab30-7b8c32d159a0",
   "metadata": {},
   "source": [
    "### Filtering"
   ]
  },
  {
   "cell_type": "code",
   "execution_count": 5,
   "id": "7fe46064-ccdb-4bfc-b8b2-302680c7b48f",
   "metadata": {},
   "outputs": [
    {
     "name": "stdout",
     "output_type": "stream",
     "text": [
      "Before filtering: Cell 78503 Ions 236\n",
      "Custom filtering: Cell 78503 Ions 234\n",
      "Adducts filtering: Cell 78503 Ions 135\n"
     ]
    },
    {
     "name": "stderr",
     "output_type": "stream",
     "text": [
      "/Users/jeanydelafiori/Apps/miniconda3/envs/spacem_analysis/lib/python3.12/site-packages/scanpy/preprocessing/_simple.py:167: ImplicitModificationWarning: Trying to modify attribute `.obs` of view, initializing view as actual.\n",
      "  adata.obs[\"n_genes\"] = number\n"
     ]
    },
    {
     "name": "stdout",
     "output_type": "stream",
     "text": [
      "Cell/Gene filtering: Cell 78500 Ions 135\n"
     ]
    }
   ],
   "source": [
    "print('Before filtering: Cell', adata.shape[0], 'Ions', adata.shape[1])\n",
    "      \n",
    "#CustomDB\n",
    "adata = adata[:, adata.var['formula-0'].isin(database_filt)]\n",
    "print('Custom filtering: Cell', adata.shape[0], 'Ions', adata.shape[1])\n",
    "      \n",
    "#Adducts\n",
    "adata = adata[:, (adata.var['adduct']=='-H')]\n",
    "print('Adducts filtering: Cell', adata.shape[0], 'Ions', adata.shape[1])\n",
    "\n",
    "#Min cells and genes\n",
    "sc.pp.filter_cells(adata, min_genes=10)\n",
    "sc.pp.filter_genes(adata, min_cells=50)\n",
    "print('Cell/Gene filtering: Cell', adata.shape[0], 'Ions', adata.shape[1])\n",
    "\n",
    "#saving\n",
    "adata.write(data_path / 'SC1_filtered.h5ad')"
   ]
  },
  {
   "cell_type": "markdown",
   "id": "fd3f0b73-4a63-4c0d-8088-f68a9c499ca7",
   "metadata": {},
   "source": [
    "### Normalization"
   ]
  },
  {
   "cell_type": "code",
   "execution_count": 5,
   "id": "c4a822c9-a651-4e1d-9d45-768aafe6c300",
   "metadata": {},
   "outputs": [
    {
     "name": "stderr",
     "output_type": "stream",
     "text": [
      "/Users/jeanydelafiori/Apps/miniconda3/envs/spacem_analysis/lib/python3.12/site-packages/scanpy/preprocessing/_normalization.py:234: UserWarning: Some cells have zero counts\n",
      "  warn(UserWarning(\"Some cells have zero counts\"))\n"
     ]
    }
   ],
   "source": [
    "#raw counts\n",
    "adata.layers['counts'] = adata.X.copy()\n",
    "\n",
    "#normalized counts\n",
    "sc.pp.normalize_total(adata, target_sum=10000, exclude_highly_expressed =True, max_fraction = 0.05)\n",
    "adata.layers['norm_counts'] = adata.X.copy()\n",
    "\n",
    "#log transformation\n",
    "sc.pp.log1p(adata)\n",
    "adata.layers['log1p'] = adata.X.copy()\n",
    "\n",
    "adata.raw = adata\n",
    "\n",
    "#saving\n",
    "adata.write(data_dir / 'SC1_normalized.h5ad')"
   ]
  },
  {
   "cell_type": "markdown",
   "id": "b6202d07-376c-4077-8b59-04165f49d039",
   "metadata": {},
   "source": [
    "## SC2"
   ]
  },
  {
   "cell_type": "markdown",
   "id": "80987639-b2db-4ec6-b1d4-60a8070d8412",
   "metadata": {},
   "source": [
    "### Load data"
   ]
  },
  {
   "cell_type": "code",
   "execution_count": 6,
   "id": "c3c9fcf5-0625-4291-97bc-00063f59712a",
   "metadata": {},
   "outputs": [],
   "source": [
    "#load anndata file\n",
    "adata =  sc.read_h5ad(SC2_path)\n",
    "adata.raw = adata\n",
    "\n",
    "#load custom database\n",
    "database = pd.read_csv(custom2_path, sep='\\t', header=0) \n",
    "database_filt = database['formula']"
   ]
  },
  {
   "cell_type": "markdown",
   "id": "4eb70dc6-a8b3-4797-a1a7-c8deb2069b27",
   "metadata": {},
   "source": [
    "### Filtering"
   ]
  },
  {
   "cell_type": "code",
   "execution_count": 7,
   "id": "b492b252-0c6e-4579-9e87-35bcd47bbdcc",
   "metadata": {},
   "outputs": [
    {
     "name": "stdout",
     "output_type": "stream",
     "text": [
      "Before filtering: Cell 42153 Ions 436\n",
      "Custom filtering: Cell 42153 Ions 344\n",
      "Adducts filtering: Cell 42153 Ions 202\n",
      "Cell/Gene filtering: Cell 42153 Ions 202\n"
     ]
    },
    {
     "name": "stderr",
     "output_type": "stream",
     "text": [
      "/Users/jeanydelafiori/Apps/miniconda3/envs/spacem_analysis/lib/python3.12/site-packages/scanpy/preprocessing/_simple.py:167: ImplicitModificationWarning: Trying to modify attribute `.obs` of view, initializing view as actual.\n",
      "  adata.obs[\"n_genes\"] = number\n"
     ]
    }
   ],
   "source": [
    "print('Before filtering: Cell', adata.shape[0], 'Ions', adata.shape[1])\n",
    "      \n",
    "#CustomDB\n",
    "adata = adata[:, adata.var['formula-0'].isin(database_filt)]\n",
    "print('Custom filtering: Cell', adata.shape[0], 'Ions', adata.shape[1])\n",
    "\n",
    "#Adducts\n",
    "adata = adata[:, (adata.var['adduct']=='-H')]\n",
    "print('Adducts filtering: Cell', adata.shape[0], 'Ions', adata.shape[1])\n",
    "\n",
    "#Min cells and genes\n",
    "sc.pp.filter_cells(adata, min_genes=20)\n",
    "sc.pp.filter_genes(adata, min_cells=50)\n",
    "print('Cell/Gene filtering: Cell', adata.shape[0], 'Ions', adata.shape[1])\n",
    "\n",
    "#saving\n",
    "adata.write(data_path / 'SC2_filtered.h5ad')"
   ]
  },
  {
   "cell_type": "markdown",
   "id": "0d7807db-4924-490c-b228-74bdc021db77",
   "metadata": {},
   "source": [
    "### Normalization"
   ]
  },
  {
   "cell_type": "code",
   "execution_count": 8,
   "id": "8e8b3dcb-51d6-4836-bd6f-281d18d645d3",
   "metadata": {},
   "outputs": [],
   "source": [
    "#raw counts\n",
    "adata.layers[\"counts\"] = adata.X.copy()\n",
    "\n",
    "#normalized counts\n",
    "sc.pp.normalize_total(adata, target_sum=10000, exclude_highly_expressed =True, max_fraction = 0.05)\n",
    "adata.layers['norm_counts'] = adata.X.copy()\n",
    "\n",
    "#log transformation\n",
    "sc.pp.log1p(adata)\n",
    "adata.layers['log1p'] = adata.X.copy()\n",
    "\n",
    "adata.raw = adata\n",
    "\n",
    "#saving\n",
    "adata.write(data_dir / 'SC2_normalized.h5ad')"
   ]
  },
  {
   "cell_type": "markdown",
   "id": "93cfdbcd-e0ac-47ca-bc1c-2af557fed2fa",
   "metadata": {},
   "source": [
    "## SC3"
   ]
  },
  {
   "cell_type": "markdown",
   "id": "44758a9e-67d1-467d-958d-085d9bfc8055",
   "metadata": {},
   "source": [
    "### Load data"
   ]
  },
  {
   "cell_type": "code",
   "execution_count": 12,
   "id": "7305d7be-de2b-45b0-b258-68aa3f2da8f3",
   "metadata": {},
   "outputs": [],
   "source": [
    "#load anndata file\n",
    "adata =  sc.read_h5ad(SC3_path)\n",
    "adata.raw = adata\n",
    "adata.obs_names_make_unique()\n",
    "\n",
    "#load custom database\n",
    "database = pd.read_csv(custom3_path, sep='\\t', header=0) \n",
    "database_filt = database['formula']"
   ]
  },
  {
   "cell_type": "markdown",
   "id": "5383e4c5-8556-4f13-8838-9439f9ddac28",
   "metadata": {},
   "source": [
    "### Filtering"
   ]
  },
  {
   "cell_type": "code",
   "execution_count": 13,
   "id": "2ad6c928-4389-48dc-8c29-c5397b08e0d3",
   "metadata": {},
   "outputs": [
    {
     "name": "stdout",
     "output_type": "stream",
     "text": [
      "Before filtering: Cell 18937 Ions 175\n",
      "Custom filtering: Cell 18937 Ions 140\n",
      "Adducts filtering: Cell 18937 Ions 140\n",
      "Cell/Ions filtering: Cell 15794 Ions 111\n",
      "Sampled proportion: Cell 15697 Ions 111\n"
     ]
    },
    {
     "name": "stderr",
     "output_type": "stream",
     "text": [
      "/Users/jeanydelafiori/Apps/miniconda3/envs/spacem_analysis/lib/python3.12/site-packages/scanpy/preprocessing/_simple.py:167: ImplicitModificationWarning: Trying to modify attribute `.obs` of view, initializing view as actual.\n",
      "  adata.obs[\"n_genes\"] = number\n"
     ]
    }
   ],
   "source": [
    "print('Before filtering: Cell', adata.shape[0], 'Ions', adata.shape[1])\n",
    "      \n",
    "#CustomDB\n",
    "adata = adata[:, adata.var['formula'].isin(database_filt)]\n",
    "print('Custom filtering: Cell', adata.shape[0], 'Ions', adata.shape[1])\n",
    "\n",
    "#Adducts\n",
    "adata = adata[:, (adata.var['adduct']=='-H')]\n",
    "print('Adducts filtering: Cell', adata.shape[0], 'Ions', adata.shape[1])\n",
    "\n",
    "#Min cells and ions\n",
    "sc.pp.filter_cells(adata, min_genes=75)\n",
    "sc.pp.filter_genes(adata, min_cells=2000)\n",
    "print('Cell/Ions filtering: Cell', adata.shape[0], 'Ions', adata.shape[1])\n",
    "\n",
    "#Minimum ablated proportion\n",
    "adata = adata[adata.obs['cell_sampled_proportion']>=0.4, :]\n",
    "print('Sampled proportion: Cell', adata.shape[0], 'Ions', adata.shape[1])\n",
    "\n",
    "#saving\n",
    "adata.write(data_path / 'SC3_filtered.h5ad')"
   ]
  },
  {
   "cell_type": "markdown",
   "id": "d2539466-6f5b-4e3f-baff-9fc88f0316ad",
   "metadata": {},
   "source": [
    "### Normalization"
   ]
  },
  {
   "cell_type": "code",
   "execution_count": 14,
   "id": "332c8375-4b5d-48f3-93d6-ef32461e18d7",
   "metadata": {},
   "outputs": [
    {
     "name": "stderr",
     "output_type": "stream",
     "text": [
      "/var/folders/yd/30x9k4ks4xgcqd7x9_jk19c40000gn/T/ipykernel_33714/1211699480.py:2: ImplicitModificationWarning: Setting element `.layers['counts']` of view, initializing view as actual.\n",
      "  adata.layers[\"counts\"] = adata.X.copy()\n"
     ]
    }
   ],
   "source": [
    "#raw counts\n",
    "adata.layers[\"counts\"] = adata.X.copy()\n",
    "\n",
    "#normalized counts\n",
    "sc.pp.normalize_total(adata, target_sum=10000, exclude_highly_expressed =True, max_fraction = 0.05)\n",
    "adata.layers[\"norm_counts\"] = adata.X.copy()\n",
    "\n",
    "#log transformation\n",
    "sc.pp.log1p(adata)\n",
    "adata.layers[\"log1p\"] = adata.X.copy()\n",
    "\n",
    "adata.raw = adata\n",
    "\n",
    "#saving\n",
    "adata.write(data_dir / 'SC3_normalized.h5ad')"
   ]
  },
  {
   "cell_type": "markdown",
   "id": "b0a80372-6ce7-4d01-a125-08e736aff6e3",
   "metadata": {},
   "source": [
    "## SC4"
   ]
  },
  {
   "cell_type": "markdown",
   "id": "bc2ca0a3-c6a0-4cd9-a3c9-66afb5f08dd7",
   "metadata": {},
   "source": [
    "### Load data"
   ]
  },
  {
   "cell_type": "code",
   "execution_count": 10,
   "id": "1bef6884-2a62-4043-a9e6-be0c3a3690d5",
   "metadata": {},
   "outputs": [
    {
     "name": "stderr",
     "output_type": "stream",
     "text": [
      "/Users/jeanydelafiori/Apps/miniconda3/envs/spacem_analysis/lib/python3.12/site-packages/anndata/_core/anndata.py:1754: UserWarning: Observation names are not unique. To make them unique, call `.obs_names_make_unique`.\n",
      "  utils.warn_names_duplicates(\"obs\")\n"
     ]
    }
   ],
   "source": [
    "#load anndata file\n",
    "adata =  sc.read_h5ad(SC4_path)\n",
    "adata.raw = adata\n",
    "\n",
    "#load custom database\n",
    "database = pd.read_csv(custom4_path, sep='\\t', header=0) \n",
    "database_filt = database['annotation_id']"
   ]
  },
  {
   "cell_type": "markdown",
   "id": "d4bf9da2-b6c0-4c94-ad79-50c2f3111aa1",
   "metadata": {},
   "source": [
    "### Filtering"
   ]
  },
  {
   "cell_type": "code",
   "execution_count": 11,
   "id": "22b466d6-52a5-4ccd-803a-ba24c1d5c5a6",
   "metadata": {},
   "outputs": [
    {
     "name": "stdout",
     "output_type": "stream",
     "text": [
      "Before filtering: Cells 4446 Ions 499\n",
      "Adducts filtering: Cells 4446 Ions 254\n",
      "Custom filtering: Cells 4446 Ions 173\n",
      "Cell/Ion filtering: Cells 4445 Ions 142\n",
      "Sampled proportion: Cells 4413 Ions 142\n"
     ]
    },
    {
     "name": "stderr",
     "output_type": "stream",
     "text": [
      "/Users/jeanydelafiori/Apps/miniconda3/envs/spacem_analysis/lib/python3.12/site-packages/scanpy/preprocessing/_simple.py:167: ImplicitModificationWarning: Trying to modify attribute `.obs` of view, initializing view as actual.\n",
      "  adata.obs[\"n_genes\"] = number\n",
      "/Users/jeanydelafiori/Apps/miniconda3/envs/spacem_analysis/lib/python3.12/site-packages/anndata/_core/anndata.py:1754: UserWarning: Observation names are not unique. To make them unique, call `.obs_names_make_unique`.\n",
      "  utils.warn_names_duplicates(\"obs\")\n",
      "/Users/jeanydelafiori/Apps/miniconda3/envs/spacem_analysis/lib/python3.12/site-packages/anndata/_core/anndata.py:1754: UserWarning: Observation names are not unique. To make them unique, call `.obs_names_make_unique`.\n",
      "  utils.warn_names_duplicates(\"obs\")\n",
      "/Users/jeanydelafiori/Apps/miniconda3/envs/spacem_analysis/lib/python3.12/site-packages/anndata/_core/anndata.py:1754: UserWarning: Observation names are not unique. To make them unique, call `.obs_names_make_unique`.\n",
      "  utils.warn_names_duplicates(\"obs\")\n"
     ]
    }
   ],
   "source": [
    "print('Before filtering: Cells', adata.shape[0], 'Ions', adata.shape[1])\n",
    "\n",
    "#filtering for -H adducts only\n",
    "adata = adata[:, (adata.var['adduct']=='-H')]\n",
    "print('Adducts filtering: Cells', adata.shape[0], 'Ions', adata.shape[1])\n",
    "\n",
    "#CustomDB\n",
    "adata = adata[:, adata.var['annotation_id'].isin(database_filt)]\n",
    "print('Custom filtering: Cells', adata.shape[0], 'Ions', adata.shape[1])\n",
    "\n",
    "#Min cells and ions\n",
    "sc.pp.filter_cells(adata, min_genes=40)\n",
    "sc.pp.filter_genes(adata, min_cells=300)\n",
    "print('Cell/Ion filtering: Cells', adata.shape[0], 'Ions', adata.shape[1])\n",
    "\n",
    "#Minimum ablated proportion\n",
    "adata = adata[adata.obs['cell_sampled_proportion']>=0.4, :]\n",
    "print('Sampled proportion: Cells', adata.shape[0], 'Ions', adata.shape[1])\n",
    "\n",
    "#saving\n",
    "adata.write(data_path / 'SC4_filtered.h5ad')"
   ]
  },
  {
   "cell_type": "markdown",
   "id": "bc8f788b-e245-445b-9cc8-1864c7dba63d",
   "metadata": {},
   "source": [
    "### Fluorescence processing and normalization"
   ]
  },
  {
   "cell_type": "code",
   "execution_count": 8,
   "id": "a3237327-48f0-434a-a74d-864f8c4a4c65",
   "metadata": {},
   "outputs": [
    {
     "name": "stdout",
     "output_type": "stream",
     "text": [
      "NIH3T3: 1235, NCI-H460: 3178, Uncertain: 0\n",
      "NIH3T3: 496, NCI-H460: 1876, Uncertain: 2041\n"
     ]
    },
    {
     "name": "stderr",
     "output_type": "stream",
     "text": [
      "/var/folders/yd/30x9k4ks4xgcqd7x9_jk19c40000gn/T/ipykernel_33714/3142065006.py:1: ImplicitModificationWarning: Trying to modify attribute `.obs` of view, initializing view as actual.\n",
      "  adata.obs['condition_GFP'] = 'Uncertain'\n",
      "/Users/jeanydelafiori/Apps/miniconda3/envs/spacem_analysis/lib/python3.12/site-packages/anndata/_core/anndata.py:1754: UserWarning: Observation names are not unique. To make them unique, call `.obs_names_make_unique`.\n",
      "  utils.warn_names_duplicates(\"obs\")\n"
     ]
    }
   ],
   "source": [
    "adata.obs['condition_GFP'] = 'Uncertain'\n",
    "adata.obs.loc[(adata.obs['sampled_intensity_max-GFP'] > 10), 'condition_GFP'] = 'NIH3T3'\n",
    "adata.obs.loc[(adata.obs['sampled_intensity_max-GFP'] <= 10), 'condition_GFP'] = 'NCI-H460'\n",
    "\n",
    "counts = adata.obs['condition_GFP'].value_counts()\n",
    "NIH3T3_count = counts.get('NIH3T3', 0)\n",
    "NCIH460_count = counts.get('NCI-H460', 0)\n",
    "Uncertain_count = counts.get('Uncertain', 0)\n",
    "print(f'NIH3T3: {NIH3T3_count}, NCI-H460: {NCIH460_count}, Uncertain: {Uncertain_count}')\n",
    "\n",
    "adata.obs['condition'] = 'Uncertain'\n",
    "adata.obs.loc[(adata.obs['sampled_intensity_max-GFP'] > 10) & \n",
    "              (adata.obs['inertia_tensor_eigvals-0'] > 200),'condition'] = 'NIH3T3'\n",
    "adata.obs.loc[(adata.obs['sampled_intensity_max-GFP'] < 10) & \n",
    "              (adata.obs['cell_area'] < 1000),'condition'] = 'NCI-H460'\n",
    "\n",
    "counts = adata.obs['condition'].value_counts()\n",
    "NIH3T3_count = counts.get('NIH3T3', 0)\n",
    "NCIH460_count = counts.get('NCI-H460', 0)\n",
    "Uncertain_count = counts.get('Uncertain', 0)\n",
    "print(f'NIH3T3: {NIH3T3_count}, NCI-H460: {NCIH460_count}, Uncertain: {Uncertain_count}')"
   ]
  },
  {
   "cell_type": "markdown",
   "id": "6c60929f-a54c-4708-90af-846f81f97d21",
   "metadata": {},
   "source": [
    "### Normalization"
   ]
  },
  {
   "cell_type": "code",
   "execution_count": 9,
   "id": "9de81b35-52d8-42ee-8baa-9ad6d5378dc0",
   "metadata": {},
   "outputs": [],
   "source": [
    "#raw counts\n",
    "adata.layers[\"counts\"] = adata.X.copy()\n",
    "\n",
    "#normalized counts\n",
    "sc.pp.normalize_total(adata, target_sum=10000, exclude_highly_expressed =True, max_fraction = 0.05)\n",
    "adata.layers[\"norm_counts\"] = adata.X.copy()\n",
    "\n",
    "#log transformation\n",
    "sc.pp.log1p(adata)\n",
    "adata.layers[\"log1p\"] = adata.X.copy()\n",
    "\n",
    "adata.raw = adata\n",
    "\n",
    "#saving\n",
    "adata.write(data_dir / 'SC4_normalized.h5ad')"
   ]
  },
  {
   "cell_type": "code",
   "execution_count": null,
   "id": "3a0f3ea1-8b2f-48e2-a623-b1b26708df35",
   "metadata": {},
   "outputs": [],
   "source": []
  }
 ],
 "metadata": {
  "kernelspec": {
   "display_name": "Python 3 (ipykernel)",
   "language": "python",
   "name": "python3"
  },
  "language_info": {
   "codemirror_mode": {
    "name": "ipython",
    "version": 3
   },
   "file_extension": ".py",
   "mimetype": "text/x-python",
   "name": "python",
   "nbconvert_exporter": "python",
   "pygments_lexer": "ipython3",
   "version": "3.12.7"
  }
 },
 "nbformat": 4,
 "nbformat_minor": 5
}
